{
 "cells": [
  {
   "cell_type": "markdown",
   "metadata": {},
   "source": [
    "# Multiprocessing using Pools \n",
    "A simple framework for assessing the impact of multiprocessing on runtime on a multi-core machine. "
   ]
  },
  {
   "cell_type": "code",
   "execution_count": 2,
   "metadata": {},
   "outputs": [],
   "source": [
    "import time\n",
    "import math\n",
    "import multiprocessing\n",
    "from multiprocessing import Pool\n",
    "import func\n",
    "import prime\n",
    "\n",
    "# A function for timing a job that uses a pool of processes.\n",
    "#  f is a function that takes a single argument\n",
    "#  data is an array of arguments on which f will be mapped\n",
    "#  pool_size is the number of processes in the pool. \n",
    "def pool_process(f, data, pool_size):\n",
    "    tp1 = time.time()\n",
    "    pool = Pool(processes=pool_size) # initialize the Pool.\n",
    "    result = pool.map(f, data)       # map f to the data using the Pool of processes to do the work \n",
    "    pool.close() # No more processes\n",
    "    pool.join()  # Wait for the pool processing to complete. \n",
    "    print(\"Results\", result)\n",
    "    print(\"Overall Time:\", int(time.time()-tp1))\n",
    " "
   ]
  },
  {
   "cell_type": "code",
   "execution_count": 3,
   "metadata": {},
   "outputs": [],
   "source": [
    "dataRange = range(10)"
   ]
  },
  {
   "cell_type": "markdown",
   "metadata": {},
   "source": [
    "Use the pool_process function to apply my_func to the data in dataRange.  \n",
    "This task is so light it requires very little processing time. "
   ]
  },
  {
   "cell_type": "code",
   "execution_count": 4,
   "metadata": {
    "scrolled": true
   },
   "outputs": [
    {
     "name": "stdout",
     "output_type": "stream",
     "text": [
      "Results [0.0, 1.0, 1.4142135623730951, 1.7320508075688772, 2.0, 2.23606797749979, 2.449489742783178, 2.6457513110645907, 2.8284271247461903, 3.0]\n",
      "Overall Time: 0\n"
     ]
    }
   ],
   "source": [
    "pool_process(func.my_func, dataRange, 2)"
   ]
  },
  {
   "cell_type": "markdown",
   "metadata": {},
   "source": [
    "## A naive function for checking primes\n",
    "This has been moved to another file \"prime.py\" to avoid error"
   ]
  },
  {
   "cell_type": "markdown",
   "metadata": {},
   "source": [
    "<h2>We are going to test a list of million-level prime numbers with different poolsizes, and plot the cores-time curve</h2>"
   ]
  },
  {
   "cell_type": "code",
   "execution_count": 5,
   "metadata": {},
   "outputs": [],
   "source": [
    "from matplotlib import pyplot as plt\n",
    "import numpy as np\n",
    "import timeit\n",
    "from functools import partial"
   ]
  },
  {
   "cell_type": "code",
   "execution_count": 6,
   "metadata": {},
   "outputs": [],
   "source": [
    "prime_list=[15485863, 32452843, 49979687, 67867967, 86028121, 104395301, 122949823, 141650939, 160481183]"
   ]
  },
  {
   "cell_type": "code",
   "execution_count": 9,
   "metadata": {},
   "outputs": [
    {
     "name": "stdout",
     "output_type": "stream",
     "text": [
      "Results [True, True, True, True, True, True, True, True, True]\n",
      "Overall Time: 92\n",
      "Results [True, True, True, True, True, True, True, True, True]\n",
      "Overall Time: 92\n",
      "Results [True, True, True, True, True, True, True, True, True]\n",
      "Overall Time: 91\n",
      "Results [True, True, True, True, True, True, True, True, True]\n",
      "Overall Time: 92\n",
      "Results [True, True, True, True, True, True, True, True, True]\n",
      "Overall Time: 92\n",
      "Results [True, True, True, True, True, True, True, True, True]\n",
      "Overall Time: 73\n",
      "Results [True, True, True, True, True, True, True, True, True]\n",
      "Overall Time: 74\n",
      "Results [True, True, True, True, True, True, True, True, True]\n",
      "Overall Time: 73\n",
      "Results [True, True, True, True, True, True, True, True, True]\n",
      "Overall Time: 74\n",
      "Results [True, True, True, True, True, True, True, True, True]\n",
      "Overall Time: 75\n",
      "Results [True, True, True, True, True, True, True, True, True]\n",
      "Overall Time: 70\n",
      "Results [True, True, True, True, True, True, True, True, True]\n",
      "Overall Time: 65\n",
      "Results [True, True, True, True, True, True, True, True, True]\n",
      "Overall Time: 64\n",
      "Results [True, True, True, True, True, True, True, True, True]\n",
      "Overall Time: 64\n",
      "Results [True, True, True, True, True, True, True, True, True]\n",
      "Overall Time: 62\n",
      "Results [True, True, True, True, True, True, True, True, True]\n",
      "Overall Time: 55\n",
      "Results [True, True, True, True, True, True, True, True, True]\n",
      "Overall Time: 55\n",
      "Results [True, True, True, True, True, True, True, True, True]\n",
      "Overall Time: 57\n",
      "Results [True, True, True, True, True, True, True, True, True]\n",
      "Overall Time: 56\n",
      "Results [True, True, True, True, True, True, True, True, True]\n",
      "Overall Time: 55\n",
      "Results [True, True, True, True, True, True, True, True, True]\n",
      "Overall Time: 52\n",
      "Results [True, True, True, True, True, True, True, True, True]\n",
      "Overall Time: 51\n",
      "Results [True, True, True, True, True, True, True, True, True]\n",
      "Overall Time: 51\n",
      "Results [True, True, True, True, True, True, True, True, True]\n",
      "Overall Time: 51\n",
      "Results [True, True, True, True, True, True, True, True, True]\n",
      "Overall Time: 52\n",
      "Results [True, True, True, True, True, True, True, True, True]\n",
      "Overall Time: 48\n",
      "Results [True, True, True, True, True, True, True, True, True]\n",
      "Overall Time: 48\n",
      "Results [True, True, True, True, True, True, True, True, True]\n",
      "Overall Time: 48\n",
      "Results [True, True, True, True, True, True, True, True, True]\n",
      "Overall Time: 48\n",
      "Results [True, True, True, True, True, True, True, True, True]\n",
      "Overall Time: 48\n",
      "Results [True, True, True, True, True, True, True, True, True]\n",
      "Overall Time: 45\n",
      "Results [True, True, True, True, True, True, True, True, True]\n",
      "Overall Time: 44\n",
      "Results [True, True, True, True, True, True, True, True, True]\n",
      "Overall Time: 45\n",
      "Results [True, True, True, True, True, True, True, True, True]\n",
      "Overall Time: 45\n"
     ]
    },
    {
     "name": "stderr",
     "output_type": "stream",
     "text": [
      "No handles with labels found to put in legend.\n"
     ]
    },
    {
     "name": "stdout",
     "output_type": "stream",
     "text": [
      "Results [True, True, True, True, True, True, True, True, True]\n",
      "Overall Time: 48\n"
     ]
    },
    {
     "data": {
      "text/plain": [
       "<matplotlib.legend.Legend at 0x2baa61fea30>"
      ]
     },
     "execution_count": 9,
     "metadata": {},
     "output_type": "execute_result"
    },
    {
     "data": {
      "image/png": "[encoded data removed]",
      "text/plain": [
       "<Figure size 1080x360 with 1 Axes>"
      ]
     },
     "metadata": {
      "needs_background": "light"
     },
     "output_type": "display_data"
    }
   ],
   "source": [
    "def timing(fn, method, prime_list, cores, nTests):\n",
    "    \"\"\"\n",
    "    Run timer and plot\n",
    "    \"\"\"\n",
    "    testNTimer = timeit.Timer(partial(fn, method, prime_list, cores)) #using partial method to test the running time of fn\n",
    "    t = testNTimer.timeit(number=nTests) # assign the spent time to t\n",
    "    return t\n",
    "\n",
    "plt.figure(figsize=(15,5)) #figure size\n",
    "plt.xlabel(\"Number of cores\") # xlabel\n",
    "plt.ylabel(\"Running time\") #ylabel\n",
    "\n",
    "x_list = []\n",
    "y_list = []\n",
    "for i in range(2,9):\n",
    "    x_list.append(i)\n",
    "    y_list.append(timing(pool_process, prime.check_prime, prime_list, i, 5))\n",
    "\n",
    "p = plt.plot(x_list, y_list, '-') #plot\n",
    "plt.title('Running time as cores grow') #title\n",
    "plt.legend()"
   ]
  },
  {
   "cell_type": "code",
   "execution_count": null,
   "metadata": {},
   "outputs": [],
   "source": []
  }
 ],
 "metadata": {
  "kernelspec": {
   "display_name": "Python 3 (ipykernel)",
   "language": "python",
   "name": "python3"
  },
  "language_info": {
   "codemirror_mode": {
    "name": "ipython",
    "version": 3
   },
   "file_extension": ".py",
   "mimetype": "text/x-python",
   "name": "python",
   "nbconvert_exporter": "python",
   "pygments_lexer": "ipython3",
   "version": "3.9.7"
  }
 },
 "nbformat": 4,
 "nbformat_minor": 4
}
